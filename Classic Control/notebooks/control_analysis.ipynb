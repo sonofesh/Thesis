{
 "cells": [
  {
   "cell_type": "code",
   "execution_count": 1,
   "metadata": {},
   "outputs": [],
   "source": [
    "import pandas as pd\n",
    "import numpy as np\n",
    "import gym\n",
    "import random\n",
    "\n",
    "from importlib import reload\n",
    "import sys\n",
    "\n",
    "from scipy.stats import poisson, beta, norm\n",
    "import matplotlib.pyplot as plt\n",
    "import seaborn as sns\n",
    "\n",
    "sns.set_style(\"dark\")"
   ]
  },
  {
   "cell_type": "code",
   "execution_count": 16,
   "metadata": {},
   "outputs": [
    {
     "name": "stdout",
     "output_type": "stream",
     "text": [
      "Available Themes: \n",
      "   chesterish\n",
      "   grade3\n",
      "   gruvboxd\n",
      "   gruvboxl\n",
      "   monokai\n",
      "   oceans16\n",
      "   onedork\n",
      "   solarizedd\n",
      "   solarizedl\n"
     ]
    }
   ],
   "source": [
    "!jt -l"
   ]
  },
  {
   "cell_type": "code",
   "execution_count": 17,
   "metadata": {},
   "outputs": [],
   "source": [
    "#jt -t oceans16"
   ]
  },
  {
   "cell_type": "markdown",
   "metadata": {},
   "source": [
    "### Plan\n",
    "\n",
    "Experiments on MountainCar, CartPole, and AcroBot (env with discrete action spaces) using small DQN-QR network\n",
    "- Methods: DQN-QR (baseline), Parallel DQN-QR, Parallel DQN-QR with Biased Risk Profile (DDQN-QR-B), DDQN-QR-B with normalizing bias\n",
    "- Implement n-step returns and compare performance\n",
    "\n",
    "1. Experiment 1: Performance and learning on 5k time steps repeated 10 times for each method\n",
    "    - Plot avg learning curve with 50% std deviation\n",
    "    - Evaluation performance box plot \n",
    "2. Experiment 2: Priority replay experiments on 5k time steps repeated 10 times for each method. Test for best method from prior experiment\n",
    "    - Hypothesized ideal formulation: resource allocation based on softmax over UCB. Then priority sampling \n",
    "    - Compare Uniform, Priority, Thread-Based Priority, Thread-Based Priority with Exploration Bonus\n",
    "    - Learning curves wi 50% std deviation"
   ]
  },
  {
   "cell_type": "markdown",
   "metadata": {},
   "source": [
    "### Test and Improve Baselines|"
   ]
  },
  {
   "cell_type": "code",
   "execution_count": 2,
   "metadata": {},
   "outputs": [],
   "source": [
    "def get_df(results):\n",
    "    stats = ['Average Reward', '% Optimal Action']\n",
    "    df = pd.DataFrame(results, index = stats)\n",
    "\n",
    "    df = df.explode(column=list(df.columns))\n",
    "    df.index = [df.index, df.groupby(df.index).cumcount()]\n",
    "\n",
    "    return df"
   ]
  },
  {
   "cell_type": "code",
   "execution_count": 49,
   "metadata": {},
   "outputs": [],
   "source": [
    "import parallel_qr, dqn_qr, rl_utils\n",
    "\n",
    "reload(rl_utils)\n",
    "reload(dqn_qr)\n",
    "reload(parallel_qr)\n",
    "\n",
    "from dqn_qr import train_qr, evaluate, QR_Network\n",
    "from parallel_qr import Biased_QR_Network, train_parallel_qr\n",
    "from rl_utils import ParallelReplayMemory, TPReplayMemory"
   ]
  },
  {
   "cell_type": "code",
   "execution_count": 76,
   "metadata": {},
   "outputs": [
    {
     "name": "stdout",
     "output_type": "stream",
     "text": [
      "Episode 0 Return -200.0\n",
      "Episode 50 Return -193.96\n",
      "Episode 100 Return -175.03\n",
      "Episode 150 Return -167.28\n",
      "Episode 200 Return -156.44\n",
      "Episode 250 Return -148.58\n",
      "Episode 300 Return -146.44\n",
      "Episode 350 Return -144.72\n",
      "Episode 400 Return -143.04\n",
      "Episode 450 Return -140.98\n",
      "Episode 500 Return -138.53\n",
      "Episode 550 Return -137.2\n",
      "Episode 600 Return -135.6\n",
      "Episode 650 Return -133.88\n",
      "Episode 700 Return -132.82\n",
      "Episode 750 Return -131.64\n",
      "Episode 800 Return -131.39\n",
      "Episode 850 Return -130.88\n",
      "Episode 900 Return -130.17\n",
      "Episode 950 Return -129.85\n",
      "CPU times: user 2min 26s, sys: 8min 29s, total: 10min 56s\n",
      "Wall time: 1min 53s\n"
     ]
    }
   ],
   "source": [
    "%%time\n",
    "\n",
    "#test sequential DQN-QR\n",
    "env_name = 'MountainCar-v0'\n",
    "env = gym.make(env_name)\n",
    "\n",
    "N = 16\n",
    "alpha = 1e-3\n",
    "eps_start, eps_end, eps_dec = 0.9, 0.05, 500\n",
    "eps = lambda steps: eps_end + (eps_start - eps_end) * np.exp(-1. * steps / eps_dec)\n",
    "eps = lambda steps: .05\n",
    "\n",
    "qr = QR_Network(state_dims=env.observation_space.shape[0], num_actions=env.action_space.n, n=N, alpha=alpha)\n",
    "qr_target = QR_Network(state_dims=env.observation_space.shape[0], num_actions=env.action_space.n, n=N, alpha=alpha)\n",
    "\n",
    "qr, G = train_qr(env, qr, qr_target, gamma=1., num_episodes=1000, batch_size=64, eps=eps)"
   ]
  },
  {
   "cell_type": "code",
   "execution_count": 77,
   "metadata": {},
   "outputs": [
    {
     "data": {
      "text/plain": [
       "count    100.000000\n",
       "mean    -100.910000\n",
       "std        4.841101\n",
       "min     -104.000000\n",
       "25%     -103.000000\n",
       "50%     -103.000000\n",
       "75%     -101.750000\n",
       "max      -84.000000\n",
       "dtype: float64"
      ]
     },
     "execution_count": 77,
     "metadata": {},
     "output_type": "execute_result"
    }
   ],
   "source": [
    "r = evaluate(env, qr, 1, 100)\n",
    "r.describe()"
   ]
  },
  {
   "cell_type": "code",
   "execution_count": 41,
   "metadata": {},
   "outputs": [],
   "source": [
    "num_processes = 5\n",
    "\n",
    "eps = .1\n",
    "params = {'state_dims': env.observation_space.shape[0], 'num_actions': env.action_space.n, 'n': N, 'alpha': alpha, 'decay': 0}\n",
    "training_params = {'env': env, 'gamma': 1., 'iterations':20000, 'batch_size':128, 'epsilon':eps, 'num_processes':num_processes, 'refresh_rate':50}    "
   ]
  },
  {
   "cell_type": "code",
   "execution_count": 50,
   "metadata": {},
   "outputs": [
    {
     "name": "stderr",
     "output_type": "stream",
     "text": [
      "Process Process-45:\n",
      "Process Process-46:\n",
      "Process Process-44:\n",
      "Process Process-42:\n",
      "Process Process-47:\n",
      "Process Process-43:\n",
      "Traceback (most recent call last):\n",
      "Traceback (most recent call last):\n",
      "Traceback (most recent call last):\n",
      "Traceback (most recent call last):\n",
      "Traceback (most recent call last):\n",
      "Traceback (most recent call last):\n",
      "  File \"/opt/anaconda3/lib/python3.11/multiprocessing/process.py\", line 314, in _bootstrap\n",
      "    self.run()\n",
      "  File \"/opt/anaconda3/lib/python3.11/multiprocessing/process.py\", line 108, in run\n",
      "    self._target(*self._args, **self._kwargs)\n",
      "  File \"/Users/sonesh/Desktop/Thesis/Classic Control/parallel_qr.py\", line 135, in process_data\n",
      "    if shared_memory.size() < batch_size: continue\n",
      "       ^^^^^^^^^^^^^^^^^^^^\n",
      "  File \"<string>\", line 2, in size\n",
      "  File \"/opt/anaconda3/lib/python3.11/multiprocessing/managers.py\", line 822, in _callmethod\n",
      "    kind, result = conn.recv()\n",
      "                   ^^^^^^^^^^^\n",
      "  File \"/opt/anaconda3/lib/python3.11/multiprocessing/connection.py\", line 250, in recv\n",
      "    buf = self._recv_bytes()\n",
      "          ^^^^^^^^^^^^^^^^^^\n",
      "  File \"/opt/anaconda3/lib/python3.11/multiprocessing/connection.py\", line 430, in _recv_bytes\n",
      "    buf = self._recv(4)\n",
      "          ^^^^^^^^^^^^^\n",
      "  File \"/opt/anaconda3/lib/python3.11/multiprocessing/connection.py\", line 395, in _recv\n",
      "    chunk = read(handle, remaining)\n",
      "            ^^^^^^^^^^^^^^^^^^^^^^^\n",
      "  File \"/opt/anaconda3/lib/python3.11/multiprocessing/process.py\", line 314, in _bootstrap\n",
      "    self.run()\n",
      "KeyboardInterrupt\n",
      "  File \"/opt/anaconda3/lib/python3.11/multiprocessing/process.py\", line 108, in run\n",
      "    self._target(*self._args, **self._kwargs)\n",
      "  File \"/Users/sonesh/Desktop/Thesis/Classic Control/parallel_qr.py\", line 109, in gather_data\n",
      "    shared_memory.push(t_id, step = (s, a, s_prime, r, float(done)))\n",
      "  File \"<string>\", line 2, in push\n",
      "  File \"/opt/anaconda3/lib/python3.11/multiprocessing/managers.py\", line 822, in _callmethod\n",
      "    kind, result = conn.recv()\n",
      "                   ^^^^^^^^^^^\n",
      "  File \"/opt/anaconda3/lib/python3.11/multiprocessing/connection.py\", line 250, in recv\n",
      "    buf = self._recv_bytes()\n",
      "          ^^^^^^^^^^^^^^^^^^\n",
      "  File \"/opt/anaconda3/lib/python3.11/multiprocessing/connection.py\", line 430, in _recv_bytes\n",
      "    buf = self._recv(4)\n",
      "          ^^^^^^^^^^^^^\n",
      "  File \"/opt/anaconda3/lib/python3.11/multiprocessing/connection.py\", line 395, in _recv\n",
      "    chunk = read(handle, remaining)\n",
      "            ^^^^^^^^^^^^^^^^^^^^^^^\n",
      "KeyboardInterrupt\n",
      "  File \"/opt/anaconda3/lib/python3.11/multiprocessing/process.py\", line 314, in _bootstrap\n",
      "    self.run()\n",
      "  File \"/opt/anaconda3/lib/python3.11/multiprocessing/process.py\", line 108, in run\n",
      "    self._target(*self._args, **self._kwargs)\n",
      "  File \"/Users/sonesh/Desktop/Thesis/Classic Control/parallel_qr.py\", line 109, in gather_data\n",
      "    shared_memory.push(t_id, step = (s, a, s_prime, r, float(done)))\n",
      "  File \"<string>\", line 2, in push\n",
      "  File \"/opt/anaconda3/lib/python3.11/multiprocessing/managers.py\", line 822, in _callmethod\n",
      "    kind, result = conn.recv()\n",
      "                   ^^^^^^^^^^^\n",
      "  File \"/opt/anaconda3/lib/python3.11/multiprocessing/connection.py\", line 250, in recv\n",
      "    buf = self._recv_bytes()\n",
      "          ^^^^^^^^^^^^^^^^^^\n",
      "  File \"/opt/anaconda3/lib/python3.11/multiprocessing/connection.py\", line 430, in _recv_bytes\n",
      "    buf = self._recv(4)\n",
      "          ^^^^^^^^^^^^^\n",
      "  File \"/opt/anaconda3/lib/python3.11/multiprocessing/connection.py\", line 395, in _recv\n",
      "    chunk = read(handle, remaining)\n",
      "            ^^^^^^^^^^^^^^^^^^^^^^^\n",
      "KeyboardInterrupt\n",
      "  File \"/opt/anaconda3/lib/python3.11/multiprocessing/process.py\", line 314, in _bootstrap\n",
      "    self.run()\n",
      "  File \"/opt/anaconda3/lib/python3.11/multiprocessing/process.py\", line 108, in run\n",
      "    self._target(*self._args, **self._kwargs)\n",
      "  File \"/Users/sonesh/Desktop/Thesis/Classic Control/parallel_qr.py\", line 109, in gather_data\n",
      "    shared_memory.push(t_id, step = (s, a, s_prime, r, float(done)))\n",
      "  File \"/opt/anaconda3/lib/python3.11/multiprocessing/process.py\", line 314, in _bootstrap\n",
      "    self.run()\n",
      "  File \"/opt/anaconda3/lib/python3.11/multiprocessing/process.py\", line 314, in _bootstrap\n",
      "    self.run()\n",
      "  File \"<string>\", line 2, in push\n",
      "  File \"/opt/anaconda3/lib/python3.11/multiprocessing/process.py\", line 108, in run\n",
      "    self._target(*self._args, **self._kwargs)\n",
      "  File \"/opt/anaconda3/lib/python3.11/multiprocessing/managers.py\", line 822, in _callmethod\n",
      "    kind, result = conn.recv()\n",
      "                   ^^^^^^^^^^^\n",
      "  File \"/opt/anaconda3/lib/python3.11/multiprocessing/process.py\", line 108, in run\n",
      "    self._target(*self._args, **self._kwargs)\n",
      "  File \"/Users/sonesh/Desktop/Thesis/Classic Control/parallel_qr.py\", line 109, in gather_data\n",
      "    shared_memory.push(t_id, step = (s, a, s_prime, r, float(done)))\n",
      "  File \"/opt/anaconda3/lib/python3.11/multiprocessing/connection.py\", line 250, in recv\n",
      "    buf = self._recv_bytes()\n",
      "          ^^^^^^^^^^^^^^^^^^\n",
      "  File \"/Users/sonesh/Desktop/Thesis/Classic Control/parallel_qr.py\", line 109, in gather_data\n",
      "    shared_memory.push(t_id, step = (s, a, s_prime, r, float(done)))\n",
      "  File \"<string>\", line 2, in push\n",
      "  File \"<string>\", line 2, in push\n",
      "  File \"/opt/anaconda3/lib/python3.11/multiprocessing/managers.py\", line 822, in _callmethod\n",
      "    kind, result = conn.recv()\n",
      "                   ^^^^^^^^^^^\n",
      "  File \"/opt/anaconda3/lib/python3.11/multiprocessing/managers.py\", line 822, in _callmethod\n",
      "    kind, result = conn.recv()\n",
      "                   ^^^^^^^^^^^\n",
      "  File \"/opt/anaconda3/lib/python3.11/multiprocessing/connection.py\", line 250, in recv\n",
      "    buf = self._recv_bytes()\n",
      "          ^^^^^^^^^^^^^^^^^^\n",
      "  File \"/opt/anaconda3/lib/python3.11/multiprocessing/connection.py\", line 430, in _recv_bytes\n",
      "    buf = self._recv(4)\n",
      "          ^^^^^^^^^^^^^\n",
      "  File \"/opt/anaconda3/lib/python3.11/multiprocessing/connection.py\", line 250, in recv\n",
      "    buf = self._recv_bytes()\n",
      "          ^^^^^^^^^^^^^^^^^^\n",
      "  File \"/opt/anaconda3/lib/python3.11/multiprocessing/connection.py\", line 395, in _recv\n",
      "    chunk = read(handle, remaining)\n",
      "            ^^^^^^^^^^^^^^^^^^^^^^^\n",
      "  File \"/opt/anaconda3/lib/python3.11/multiprocessing/connection.py\", line 430, in _recv_bytes\n",
      "    buf = self._recv(4)\n",
      "          ^^^^^^^^^^^^^\n",
      "  File \"/opt/anaconda3/lib/python3.11/multiprocessing/connection.py\", line 430, in _recv_bytes\n",
      "    buf = self._recv(4)\n",
      "          ^^^^^^^^^^^^^\n",
      "  File \"/opt/anaconda3/lib/python3.11/multiprocessing/connection.py\", line 395, in _recv\n",
      "    chunk = read(handle, remaining)\n",
      "            ^^^^^^^^^^^^^^^^^^^^^^^\n",
      "KeyboardInterrupt\n",
      "  File \"/opt/anaconda3/lib/python3.11/multiprocessing/connection.py\", line 395, in _recv\n",
      "    chunk = read(handle, remaining)\n",
      "            ^^^^^^^^^^^^^^^^^^^^^^^\n",
      "KeyboardInterrupt\n",
      "KeyboardInterrupt\n"
     ]
    },
    {
     "ename": "KeyboardInterrupt",
     "evalue": "",
     "output_type": "error",
     "traceback": [
      "\u001b[0;31m---------------------------------------------------------------------------\u001b[0m",
      "\u001b[0;31mKeyboardInterrupt\u001b[0m                         Traceback (most recent call last)",
      "Cell \u001b[0;32mIn[50], line 12\u001b[0m\n\u001b[1;32m     10\u001b[0m training_params[\u001b[38;5;124m'\u001b[39m\u001b[38;5;124mmemory_type\u001b[39m\u001b[38;5;124m'\u001b[39m] \u001b[38;5;241m=\u001b[39m ParallelReplayMemory\n\u001b[1;32m     11\u001b[0m training_params[\u001b[38;5;124m'\u001b[39m\u001b[38;5;124mmemory_size\u001b[39m\u001b[38;5;124m'\u001b[39m] \u001b[38;5;241m=\u001b[39m \u001b[38;5;241m20000\u001b[39m\n\u001b[0;32m---> 12\u001b[0m qr_output \u001b[38;5;241m=\u001b[39m train_parallel_qr(\u001b[38;5;241m*\u001b[39m\u001b[38;5;241m*\u001b[39mtraining_params)\n",
      "File \u001b[0;32m~/Desktop/Thesis/Classic Control/parallel_qr.py:220\u001b[0m, in \u001b[0;36mtrain_parallel_qr\u001b[0;34m(env, qr, filename, memory_type, memory_size, gamma, iterations, batch_size, epsilon, num_processes, refresh_rate, decay_rates)\u001b[0m\n\u001b[1;32m    217\u001b[0m         p\u001b[38;5;241m.\u001b[39mstart()\n\u001b[1;32m    219\u001b[0m     \u001b[38;5;66;03m#stop ongoing threads\u001b[39;00m\n\u001b[0;32m--> 220\u001b[0m     \u001b[38;5;28;01mfor\u001b[39;00m p \u001b[38;5;129;01min\u001b[39;00m processes: p\u001b[38;5;241m.\u001b[39mjoin()\n\u001b[1;32m    222\u001b[0m qr\u001b[38;5;241m.\u001b[39mload_state_dict(torch\u001b[38;5;241m.\u001b[39mload(filename))\n\u001b[1;32m    223\u001b[0m qr\u001b[38;5;241m.\u001b[39meval()\n",
      "File \u001b[0;32m/opt/anaconda3/lib/python3.11/multiprocessing/process.py:149\u001b[0m, in \u001b[0;36mBaseProcess.join\u001b[0;34m(self, timeout)\u001b[0m\n\u001b[1;32m    147\u001b[0m \u001b[38;5;28;01massert\u001b[39;00m \u001b[38;5;28mself\u001b[39m\u001b[38;5;241m.\u001b[39m_parent_pid \u001b[38;5;241m==\u001b[39m os\u001b[38;5;241m.\u001b[39mgetpid(), \u001b[38;5;124m'\u001b[39m\u001b[38;5;124mcan only join a child process\u001b[39m\u001b[38;5;124m'\u001b[39m\n\u001b[1;32m    148\u001b[0m \u001b[38;5;28;01massert\u001b[39;00m \u001b[38;5;28mself\u001b[39m\u001b[38;5;241m.\u001b[39m_popen \u001b[38;5;129;01mis\u001b[39;00m \u001b[38;5;129;01mnot\u001b[39;00m \u001b[38;5;28;01mNone\u001b[39;00m, \u001b[38;5;124m'\u001b[39m\u001b[38;5;124mcan only join a started process\u001b[39m\u001b[38;5;124m'\u001b[39m\n\u001b[0;32m--> 149\u001b[0m res \u001b[38;5;241m=\u001b[39m \u001b[38;5;28mself\u001b[39m\u001b[38;5;241m.\u001b[39m_popen\u001b[38;5;241m.\u001b[39mwait(timeout)\n\u001b[1;32m    150\u001b[0m \u001b[38;5;28;01mif\u001b[39;00m res \u001b[38;5;129;01mis\u001b[39;00m \u001b[38;5;129;01mnot\u001b[39;00m \u001b[38;5;28;01mNone\u001b[39;00m:\n\u001b[1;32m    151\u001b[0m     _children\u001b[38;5;241m.\u001b[39mdiscard(\u001b[38;5;28mself\u001b[39m)\n",
      "File \u001b[0;32m/opt/anaconda3/lib/python3.11/multiprocessing/popen_fork.py:43\u001b[0m, in \u001b[0;36mPopen.wait\u001b[0;34m(self, timeout)\u001b[0m\n\u001b[1;32m     41\u001b[0m             \u001b[38;5;28;01mreturn\u001b[39;00m \u001b[38;5;28;01mNone\u001b[39;00m\n\u001b[1;32m     42\u001b[0m     \u001b[38;5;66;03m# This shouldn't block if wait() returned successfully.\u001b[39;00m\n\u001b[0;32m---> 43\u001b[0m     \u001b[38;5;28;01mreturn\u001b[39;00m \u001b[38;5;28mself\u001b[39m\u001b[38;5;241m.\u001b[39mpoll(os\u001b[38;5;241m.\u001b[39mWNOHANG \u001b[38;5;28;01mif\u001b[39;00m timeout \u001b[38;5;241m==\u001b[39m \u001b[38;5;241m0.0\u001b[39m \u001b[38;5;28;01melse\u001b[39;00m \u001b[38;5;241m0\u001b[39m)\n\u001b[1;32m     44\u001b[0m \u001b[38;5;28;01mreturn\u001b[39;00m \u001b[38;5;28mself\u001b[39m\u001b[38;5;241m.\u001b[39mreturncode\n",
      "File \u001b[0;32m/opt/anaconda3/lib/python3.11/multiprocessing/popen_fork.py:27\u001b[0m, in \u001b[0;36mPopen.poll\u001b[0;34m(self, flag)\u001b[0m\n\u001b[1;32m     25\u001b[0m \u001b[38;5;28;01mif\u001b[39;00m \u001b[38;5;28mself\u001b[39m\u001b[38;5;241m.\u001b[39mreturncode \u001b[38;5;129;01mis\u001b[39;00m \u001b[38;5;28;01mNone\u001b[39;00m:\n\u001b[1;32m     26\u001b[0m     \u001b[38;5;28;01mtry\u001b[39;00m:\n\u001b[0;32m---> 27\u001b[0m         pid, sts \u001b[38;5;241m=\u001b[39m os\u001b[38;5;241m.\u001b[39mwaitpid(\u001b[38;5;28mself\u001b[39m\u001b[38;5;241m.\u001b[39mpid, flag)\n\u001b[1;32m     28\u001b[0m     \u001b[38;5;28;01mexcept\u001b[39;00m \u001b[38;5;167;01mOSError\u001b[39;00m:\n\u001b[1;32m     29\u001b[0m         \u001b[38;5;66;03m# Child process not yet created. See #1731717\u001b[39;00m\n\u001b[1;32m     30\u001b[0m         \u001b[38;5;66;03m# e.errno == errno.ECHILD == 10\u001b[39;00m\n\u001b[1;32m     31\u001b[0m         \u001b[38;5;28;01mreturn\u001b[39;00m \u001b[38;5;28;01mNone\u001b[39;00m\n",
      "\u001b[0;31mKeyboardInterrupt\u001b[0m: "
     ]
    }
   ],
   "source": [
    "#test biased DDQN-QR\n",
    "qr_input = Biased_QR_Network(**params)\n",
    "p_replay = ParallelReplayMemory(20000, num_processes)\n",
    "tp_replay = TPReplayMemory(20000, num_processes)\n",
    "    \n",
    "#tp_replay = ParallelReplayMemory(10000, num_processes)\n",
    "training_params['filename'] = 'model_scripted.pt'\n",
    "training_params['decay_rates'] = np.array([-.2, -.1, .0, .1, .2])\n",
    "training_params['qr'] = qr_input\n",
    "training_params['memory_type'] = ParallelReplayMemory\n",
    "training_params['memory_size'] = 20000\n",
    "qr_output = train_parallel_qr(**training_params)"
   ]
  },
  {
   "cell_type": "code",
   "execution_count": 34,
   "metadata": {},
   "outputs": [
    {
     "data": {
      "text/plain": [
       "count    100.0\n",
       "mean    -200.0\n",
       "std        0.0\n",
       "min     -200.0\n",
       "25%     -200.0\n",
       "50%     -200.0\n",
       "75%     -200.0\n",
       "max     -200.0\n",
       "dtype: float64"
      ]
     },
     "execution_count": 34,
     "metadata": {},
     "output_type": "execute_result"
    }
   ],
   "source": [
    "G_test = evaluate(env, qr, gamma=1, num_episodes=100)\n",
    "G_test.describe()"
   ]
  },
  {
   "cell_type": "code",
   "execution_count": 16,
   "metadata": {},
   "outputs": [
    {
     "data": {
      "text/plain": [
       "{0: 1, 1: 1, 2: 1, 3: 1}"
      ]
     },
     "execution_count": 16,
     "metadata": {},
     "output_type": "execute_result"
    }
   ],
   "source": [
    "threads = list(range(4))\n",
    "a = dict((t, 1) for t in threads)\n",
    "a"
   ]
  },
  {
   "cell_type": "code",
   "execution_count": null,
   "metadata": {},
   "outputs": [],
   "source": [
    "for param_in, param_out in zip(qr_input.parameters(), qr_output.parameters()):\n",
    "  print('input', param_in.data)\n",
    "  print('output', param_out.data)"
   ]
  },
  {
   "cell_type": "code",
   "execution_count": 30,
   "metadata": {},
   "outputs": [],
   "source": [
    "#test unbiased DDQN-QR\n",
    "\n",
    "qr_input = Biased_QR_Network(**params)\n",
    "training_params['decay_rates'] = []\n",
    "training_params['qr'] = qr\n",
    "training_params['iterations'] = 20000\n",
    "training_params['memory_type'] = ParallelReplayMemory\n",
    "training_params['memory_size'] = 10000\n",
    "    \n",
    "qr_output = train_parallel_qr(**training_params)"
   ]
  },
  {
   "cell_type": "code",
   "execution_count": 35,
   "metadata": {},
   "outputs": [
    {
     "data": {
      "text/plain": [
       "count    100.0\n",
       "mean    -200.0\n",
       "std        0.0\n",
       "min     -200.0\n",
       "25%     -200.0\n",
       "50%     -200.0\n",
       "75%     -200.0\n",
       "max     -200.0\n",
       "dtype: float64"
      ]
     },
     "execution_count": 35,
     "metadata": {},
     "output_type": "execute_result"
    }
   ],
   "source": [
    "G_test = evaluate(env, qr_output, gamma=1, num_episodes=100)\n",
    "G_test.describe()"
   ]
  },
  {
   "cell_type": "code",
   "execution_count": null,
   "metadata": {},
   "outputs": [],
   "source": []
  }
 ],
 "metadata": {
  "kernelspec": {
   "display_name": "Python 3 (ipykernel)",
   "language": "python",
   "name": "python3"
  },
  "language_info": {
   "codemirror_mode": {
    "name": "ipython",
    "version": 3
   },
   "file_extension": ".py",
   "mimetype": "text/x-python",
   "name": "python",
   "nbconvert_exporter": "python",
   "pygments_lexer": "ipython3",
   "version": "3.11.8"
  }
 },
 "nbformat": 4,
 "nbformat_minor": 4
}
